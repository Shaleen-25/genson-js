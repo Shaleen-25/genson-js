{
 "metadata": {
  "language_info": {
   "codemirror_mode": {
    "name": "ipython",
    "version": 3
   },
   "file_extension": ".py",
   "mimetype": "text/x-python",
   "name": "python",
   "nbconvert_exporter": "python",
   "pygments_lexer": "ipython3",
   "version": "3.7.7-final"
  },
  "orig_nbformat": 2,
  "kernelspec": {
   "name": "python_defaultSpec_1598966717644",
   "display_name": "Python 3.7.7 64-bit"
  }
 },
 "nbformat": 4,
 "nbformat_minor": 2,
 "cells": [
  {
   "cell_type": "code",
   "execution_count": 2,
   "metadata": {
    "tags": []
   },
   "outputs": [
    {
     "output_type": "stream",
     "name": "stdout",
     "text": "{\n    \"$schema\": \"http://json-schema.org/schema#\",\n    \"properties\": {\n        \"arr\": {\n            \"items\": {\n                \"type\": [\n                    \"integer\",\n                    \"string\"\n                ]\n            },\n            \"type\": \"array\"\n        },\n        \"hi\": {\n            \"anyOf\": [\n                {\n                    \"type\": \"string\"\n                },\n                {\n                    \"items\": {\n                        \"anyOf\": [\n                            {\n                                \"type\": [\n                                    \"integer\",\n                                    \"string\"\n                                ]\n                            },\n                            {\n                                \"properties\": {\n                                    \"test\": {\n                                        \"type\": \"string\"\n                                    },\n                                    \"three\": {\n                                        \"type\": [\n                                            \"array\",\n                                            \"string\"\n                                        ]\n                                    },\n                                    \"two\": {\n                                        \"anyOf\": [\n                                            {\n                                                \"type\": [\n                                                    \"integer\",\n                                                    \"string\"\n                                                ]\n                                            },\n                                            {\n                                                \"items\": {\n                                                    \"type\": \"integer\"\n                                                },\n                                                \"type\": \"array\"\n                                            }\n                                        ]\n                                    }\n                                },\n                                \"type\": \"object\"\n                            }\n                        ]\n                    },\n                    \"type\": \"array\"\n                }\n            ]\n        }\n    },\n    \"required\": [\n        \"hi\"\n    ],\n    \"type\": \"object\"\n}\n"
    }
   ],
   "source": [
    "import pprint\n",
    "import genson\n",
    "import json\n",
    "pp = pprint.PrettyPrinter(indent=4,depth=None)\n",
    "b1 = genson.SchemaBuilder()\n",
    "b1.add_object({\"hi\": \"there\"})\n",
    "b1.add_object({\"arr\": [\"one\"]})\n",
    "b1.add_object({\"arr\": [2]})\n",
    "s1 = b1.to_schema()\n",
    "\n",
    "b2 = genson.SchemaBuilder()\n",
    "b2.add_object({\"hi\": [{\"test\": \"value\"}, 10, \"string\", {\"two\": \"val\"}, {\"two\": 2}, {\"two\": [1]}, {\"three\": []}, {\"three\": \"s\"}]})\n",
    "s2 = b2.to_schema()\n",
    "\n",
    "\n",
    "b3 = genson.SchemaBuilder()\n",
    "b3.add_schema(s1)\n",
    "b3.add_schema(s2)\n",
    "s3 = b3.to_json()\n",
    "\n",
    "parsed = json.loads(s3)\n",
    "print(json.dumps(parsed, indent=4, sort_keys=True))\n",
    "\n"
   ]
  },
  {
   "cell_type": "code",
   "execution_count": 5,
   "metadata": {
    "tags": []
   },
   "outputs": [
    {
     "output_type": "stream",
     "name": "stdout",
     "text": "{\n    \"$schema\": \"http://json-schema.org/schema#\",\n    \"items\": {\n        \"properties\": {\n            \"lvl1PropNum\": {\n                \"type\": \"integer\"\n            },\n            \"lvl1PropObj1\": {\n                \"properties\": {\n                    \"lvl2PropArr\": {\n                        \"items\": {\n                            \"type\": [\n                                \"boolean\",\n                                \"integer\",\n                                \"null\",\n                                \"string\"\n                            ]\n                        },\n                        \"type\": \"array\"\n                    }\n                },\n                \"required\": [\n                    \"lvl2PropArr\"\n                ],\n                \"type\": \"object\"\n            },\n            \"lvl1PropObj2\": {\n                \"properties\": {\n                    \"lvl2PropArr1\": {\n                        \"items\": {\n                            \"type\": \"integer\"\n                        },\n                        \"type\": \"array\"\n                    },\n                    \"lvl2PropArr2\": {\n                        \"items\": {\n                            \"properties\": {\n                                \"lvl3PropNum1\": {\n                                    \"type\": \"integer\"\n                                },\n                                \"lvl3PropStr1\": {\n                                    \"type\": \"string\"\n                                }\n                            },\n                            \"type\": \"object\"\n                        },\n                        \"type\": \"array\"\n                    },\n                    \"lvl2PropNum1\": {\n                        \"type\": \"integer\"\n                    },\n                    \"six\": {\n                        \"type\": \"null\"\n                    }\n                },\n                \"required\": [\n                    \"lvl2PropArr1\",\n                    \"lvl2PropArr2\",\n                    \"lvl2PropNum1\",\n                    \"six\"\n                ],\n                \"type\": \"object\"\n            },\n            \"lvl1PropStr\": {\n                \"type\": \"string\"\n            }\n        },\n        \"required\": [\n            \"lvl1PropStr\"\n        ],\n        \"type\": \"object\"\n    },\n    \"type\": \"array\"\n}\n"
    }
   ],
   "source": [
    "import pprint\n",
    "import genson\n",
    "import json\n",
    "pp = pprint.PrettyPrinter(indent=4,depth=None)\n",
    "b1 = genson.SchemaBuilder()\n",
    "b1.add_object(json.loads('''[\n",
    "      {\n",
    "        \"lvl1PropNum\": 1,\n",
    "        \"lvl1PropStr\": \"second\",\n",
    "        \"lvl1PropObj1\": {\n",
    "          \"lvl2PropArr\": [\n",
    "            1,\n",
    "            2\n",
    "          ]\n",
    "        },\n",
    "        \"lvl1PropObj2\": {\n",
    "          \"lvl2PropNum1\": 5,\n",
    "          \"lvl2PropArr1\": [\n",
    "            5.5\n",
    "          ],\n",
    "          \"six\": null,\n",
    "          \"lvl2PropArr2\": [\n",
    "            {},\n",
    "            {\n",
    "              \"lvl3PropNum1\": 1\n",
    "            },\n",
    "            {\n",
    "              \"lvl3PropStr1\": \"nine\"\n",
    "            }\n",
    "          ]\n",
    "        }\n",
    "      },\n",
    "      {\n",
    "        \"lvl1PropStr\": \"one\"\n",
    "      },\n",
    "      {\n",
    "        \"lvl1PropStr\": \"one\",\n",
    "        \"lvl1PropObj1\": {\n",
    "          \"lvl2PropArr\": [\n",
    "            null,\n",
    "            \"some string\",\n",
    "            false\n",
    "          ]\n",
    "        }\n",
    "      }\n",
    "    ]\n",
    "'''))\n",
    "s1 = b1.to_json()\n",
    "\n",
    "parsed = json.loads(s1)\n",
    "print(json.dumps(parsed, indent=4, sort_keys=True))\n",
    "\n"
   ]
  }
 ]
}