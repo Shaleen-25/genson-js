{
 "metadata": {
  "language_info": {
   "codemirror_mode": {
    "name": "ipython",
    "version": 3
   },
   "file_extension": ".py",
   "mimetype": "text/x-python",
   "name": "python",
   "nbconvert_exporter": "python",
   "pygments_lexer": "ipython3",
   "version": "3.7.7-final"
  },
  "orig_nbformat": 2,
  "kernelspec": {
   "name": "python_defaultSpec_1598966717644",
   "display_name": "Python 3.7.7 64-bit"
  }
 },
 "nbformat": 4,
 "nbformat_minor": 2,
 "cells": [
  {
   "cell_type": "code",
   "execution_count": 1,
   "metadata": {
    "tags": []
   },
   "outputs": [
    {
     "output_type": "stream",
     "name": "stdout",
     "text": "{\n    \"$schema\": \"http://json-schema.org/schema#\",\n    \"properties\": {\n        \"hi\": {\n            \"type\": \"string\"\n        }\n    },\n    \"required\": [\n        \"hi\"\n    ],\n    \"type\": \"object\"\n}\n"
    }
   ],
   "source": [
    "import pprint\n",
    "import genson\n",
    "import json\n",
    "pp = pprint.PrettyPrinter(indent=4,depth=None)\n",
    "b1 = genson.SchemaBuilder()\n",
    "b1.add_object({\"hi\": \"there\"})\n",
    "b1.add_object({\"arr\": [\"one\"]})\n",
    "b1.add_object({\"arr\": [2]})\n",
    "s1 = b1.to_schema()\n",
    "\n",
    "b2 = genson.SchemaBuilder()\n",
    "b2.add_object({\"hi\": [{\"test\": \"value\"}, 10, \"string\", {\"two\": \"val\"}, {\"two\": 2}, {\"two\": [1]}, {\"three\": []}, {\"three\": \"s\"}]})\n",
    "s2 = b2.to_schema()\n",
    "\n",
    "\n",
    "b3 = genson.SchemaBuilder()\n",
    "b3.add_schema(s1)\n",
    "b3.add_schema(s2)\n",
    "s3 = b3.to_json()\n",
    "\n",
    "parsed = json.loads(s3)\n",
    "print(json.dumps(parsed, indent=4, sort_keys=True))\n",
    "\n"
   ]
  }
 ]
}